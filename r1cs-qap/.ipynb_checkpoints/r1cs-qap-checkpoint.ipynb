{
 "cells": [
  {
   "cell_type": "code",
   "execution_count": 7,
   "id": "0649aa15",
   "metadata": {},
   "outputs": [
    {
     "ename": "AssertionError",
     "evalue": "system contains an inequality",
     "output_type": "error",
     "traceback": [
      "\u001b[0;31m---------------------------------------------------------------------------\u001b[0m",
      "\u001b[0;31mAssertionError\u001b[0m                            Traceback (most recent call last)",
      "Cell \u001b[0;32mIn[7], line 30\u001b[0m\n\u001b[1;32m     26\u001b[0m w \u001b[38;5;241m=\u001b[39m np\u001b[38;5;241m.\u001b[39marray([\u001b[38;5;241m1\u001b[39m, out, x, y, z, u, v1, v2])\n\u001b[1;32m     28\u001b[0m result \u001b[38;5;241m=\u001b[39m C\u001b[38;5;241m.\u001b[39mdot(w) \u001b[38;5;241m==\u001b[39m np\u001b[38;5;241m.\u001b[39mmultiply(A\u001b[38;5;241m.\u001b[39mdot(w), B\u001b[38;5;241m.\u001b[39mdot(w))\n\u001b[0;32m---> 30\u001b[0m \u001b[38;5;28;01massert\u001b[39;00m result\u001b[38;5;241m.\u001b[39mall(), \u001b[38;5;124m\"\u001b[39m\u001b[38;5;124msystem contains an inequality\u001b[39m\u001b[38;5;124m\"\u001b[39m\n",
      "\u001b[0;31mAssertionError\u001b[0m: system contains an inequality"
     ]
    }
   ],
   "source": [
    "import numpy as np\n",
    "\n",
    "A = np.array([[0,0,1,0,0,0,0,0],\n",
    "              [0,0,0,0,1,0,0,0],\n",
    "              [0,0,0,0,0,0,1,0]])\n",
    "              \n",
    "B = np.array([[0,0,0,1,0,0,0,0],\n",
    "              [0,0,0,0,0,1,0,0],\n",
    "              [0,0,0,0,0,0,0,1]])\n",
    "              \n",
    "C = np.array([[0,0,0,0,0,0,1,0],\n",
    "              [0,0,0,0,0,0,0,1],\n",
    "              [0,1,0,0,0,0,0,0]])\n",
    "\n",
    "import random\n",
    "\n",
    "x = random.randint(1,1000)\n",
    "y = random.randint(1,1000)\n",
    "z = random.randint(1,1000)\n",
    "u = random.randint(1,1000)\n",
    "\n",
    "out = x * y * z * u\n",
    "v1 = x*y\n",
    "v2 = z*u\n",
    "\n",
    "w = np.array([1, out, x, y, z, u, v1, v2])\n",
    "\n",
    "result = C.dot(w) == np.multiply(A.dot(w), B.dot(w))\n",
    "\n",
    "assert result.all(), \"system contains an inequality\""
   ]
  },
  {
   "cell_type": "markdown",
   "id": "3f5dfe73",
   "metadata": {},
   "source": [
    "$x^3y^2 + x^2y + 3x - 5 = out$\\\n",
    "$x*x = z_1$\\\n",
    "$x*z_1 = z_2$\\\n",
    "$y*y = z_3$\\\n",
    "$z_1 * y = out -3x + 5 $\n",
    "\n",
    "Witness Format: $[1,x,y,v_1,v_2,v_3,out]$\n",
    "\n",
    "$  [1,x,y,z_1,z_2,z_3,out]$\\\n",
    "A = ([[0,1,0,0,0,0,0],\\\n",
    "    [0,1,0,0,0,0,0],\\\n",
    "    [0,0,1,0,0,0,0],\\\n",
    "    [0,0,0,1,0,0,0]])\\\n",
    "\n",
    "B = \n",
    "\n",
    "A = np.array([[0,0,1,0,0,0,0,0],\n",
    "              [0,0,0,0,1,0,0,0],\n",
    "              [0,0,0,0,0,0,1,0]])"
   ]
  },
  {
   "cell_type": "code",
   "execution_count": null,
   "id": "c50f69d4",
   "metadata": {},
   "outputs": [],
   "source": []
  }
 ],
 "metadata": {
  "kernelspec": {
   "display_name": "Python 3 (ipykernel)",
   "language": "python",
   "name": "python3"
  },
  "language_info": {
   "codemirror_mode": {
    "name": "ipython",
    "version": 3
   },
   "file_extension": ".py",
   "mimetype": "text/x-python",
   "name": "python",
   "nbconvert_exporter": "python",
   "pygments_lexer": "ipython3",
   "version": "3.11.4"
  }
 },
 "nbformat": 4,
 "nbformat_minor": 5
}
