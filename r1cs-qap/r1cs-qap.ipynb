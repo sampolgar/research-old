{
 "cells": [
  {
   "attachments": {},
   "cell_type": "markdown",
   "id": "9a95a2dd",
   "metadata": {},
   "source": [
    "R1CS Constraints\n",
    "Intermediate Variables\n",
    "\n",
    "Before creating R1CS, our polynomials & constraints need to be in the form A x B = C\n",
    "\n",
    "Examples\n",
    "1. $x * y * z * u = out$\n",
    "2. $x^3 + x + 5 = out$\n",
    "3. $3x^2y + 5xy -x -2y +3 = out$\n",
    "4. $x^3y^2 + x^2y + 3x - 5 = out$"
   ]
  },
  {
   "attachments": {},
   "cell_type": "markdown",
   "id": "9ce7b09c",
   "metadata": {},
   "source": [
    "# Example 1 \n",
    "$x * y * z * u = out$"
   ]
  },
  {
   "cell_type": "code",
   "execution_count": 4,
   "id": "0649aa15",
   "metadata": {},
   "outputs": [],
   "source": [
    "# x * y * z * u\n",
    "import numpy as np\n",
    "\n",
    "A = np.array([[0,0,1,0,0,0,0,0],\n",
    "              [0,0,0,0,1,0,0,0],\n",
    "              [0,0,0,0,0,0,1,0]])\n",
    "              \n",
    "B = np.array([[0,0,0,1,0,0,0,0],\n",
    "              [0,0,0,0,0,1,0,0],\n",
    "              [0,0,0,0,0,0,0,1]])\n",
    "              \n",
    "C = np.array([[0,0,0,0,0,0,1,0],\n",
    "              [0,0,0,0,0,0,0,1],\n",
    "              [0,1,0,0,0,0,0,0]])\n",
    "\n",
    "import random\n",
    "\n",
    "x = random.randint(1,1000)\n",
    "y = random.randint(1,1000)\n",
    "z = random.randint(1,1000)\n",
    "u = random.randint(1,1000)\n",
    "\n",
    "out = x * y * z * u\n",
    "v1 = x*y\n",
    "v2 = z*u\n",
    "\n",
    "w = np.array([1, out, x, y, z, u, v1, v2])\n",
    "\n",
    "result = C.dot(w) == np.multiply(A.dot(w), B.dot(w))\n",
    "\n",
    "assert result.all(), \"system contains an inequality\""
   ]
  },
  {
   "attachments": {},
   "cell_type": "markdown",
   "id": "632ed930",
   "metadata": {},
   "source": [
    "# Example 2\n",
    "$x^3 + x + 5 = out$"
   ]
  },
  {
   "cell_type": "code",
   "execution_count": 9,
   "id": "7f3686b9",
   "metadata": {},
   "outputs": [],
   "source": [
    "#x^3 + x + 5 = 35\n",
    "import numpy as np\n",
    "\n",
    "# enter the A B and C from above\n",
    "A = np.array([[0,1,0,0],\n",
    "              [0,1,0,0]])\n",
    "              \n",
    "B = np.array([[0,1,0,0],\n",
    "              [0,0,1,0]])\n",
    "              \n",
    "C = np.array([[0,0,1,0],\n",
    "              [-5,-1,0,1]])\n",
    "\n",
    "# random values for x, y, z, and u\n",
    "import random\n",
    "x = random.randint(1,1000)\n",
    "\n",
    "# compute the algebraic circuit\n",
    "v1 = x*x\n",
    "out = v1 * x + x + 5\n",
    "\n",
    "# create the witness vector\n",
    "w = np.array([1, x, v1, out])\n",
    "\n",
    "# element-wise multiplication, not matrix multiplication\n",
    "result = C.dot(w) == np.multiply(A.dot(w), B.dot(w))\n",
    "\n",
    "assert result.all(), \"system contains an inequality\""
   ]
  },
  {
   "attachments": {},
   "cell_type": "markdown",
   "id": "da342583",
   "metadata": {},
   "source": [
    "# Example 3\n",
    "$3x^2y + 5xy -x -2y +3 = out$"
   ]
  },
  {
   "cell_type": "code",
   "execution_count": null,
   "id": "eb2c13d1",
   "metadata": {},
   "outputs": [],
   "source": [
    "import numpy as np\n",
    "import random\n",
    "\n",
    "\n",
    "v1 = 3*x*x\n",
    "v2 = v1 * y\n",
    "out = v2 + 5 * x * y - x - 2 * y + 3 # equal to 5 * x * y = v2 + x + 2 * y - 3\n",
    "w = np.array([1, x, y, v1, v2, out])\n",
    "\n",
    "# pick random values for x and y\n",
    "x = random.randint(1,1000)\n",
    "y = random.randint(1,1000)\n",
    "\n",
    "# this is our orignal formula\n",
    "v1 = 3*x*x\n",
    "v2 = v1 * y\n",
    "out = v2 + 5 * x * y - x - 2 * y + 3 # equal to 5 * x * y = v2 + x + 2 * y - 3\n",
    "w = np.array([1, out, x, y, v1, v2])\n",
    "\n",
    "result = C.dot(w) == np.multiply(A.dot(w),B.dot(w))\n",
    "assert result.all(), \"result contains an inequality\""
   ]
  },
  {
   "cell_type": "code",
   "execution_count": null,
   "id": "4b977a1e",
   "metadata": {},
   "outputs": [],
   "source": []
  },
  {
   "attachments": {},
   "cell_type": "markdown",
   "id": "c50f69d4",
   "metadata": {},
   "source": []
  }
 ],
 "metadata": {
  "kernelspec": {
   "display_name": "Python 3 (ipykernel)",
   "language": "python",
   "name": "python3"
  },
  "language_info": {
   "codemirror_mode": {
    "name": "ipython",
    "version": 3
   },
   "file_extension": ".py",
   "mimetype": "text/x-python",
   "name": "python",
   "nbconvert_exporter": "python",
   "pygments_lexer": "ipython3",
   "version": "3.11.4"
  }
 },
 "nbformat": 4,
 "nbformat_minor": 5
}
